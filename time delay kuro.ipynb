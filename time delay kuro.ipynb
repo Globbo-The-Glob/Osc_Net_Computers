{
 "cells": [
  {
   "cell_type": "markdown",
   "metadata": {},
   "source": [
    "# Kuramoto with time delay and steps"
   ]
  },
  {
   "attachments": {},
   "cell_type": "markdown",
   "metadata": {},
   "source": [
    "- Kuromoto oscillator as object\n",
    "- Network as object\n",
    "- build networks and oscillators with distributions and the like\n",
    "- explore synchrony and get know results\n",
    "- add time delay \n",
    "- Figure out how to get cycles, cells, simplexes of graph\n",
    "- Explore topology of graph "
   ]
  },
  {
   "cell_type": "markdown",
   "metadata": {},
   "source": []
  }
 ],
 "metadata": {
  "kernelspec": {
   "display_name": "Python 3",
   "language": "python",
   "name": "python3"
  },
  "language_info": {
   "name": "python",
   "version": "3.10.8 (tags/v3.10.8:aaaf517, Oct 11 2022, 16:50:30) [MSC v.1933 64 bit (AMD64)]"
  },
  "orig_nbformat": 4,
  "vscode": {
   "interpreter": {
    "hash": "d20478980f7ca0ef3327e1b38141f3b0e1dea614a5c5a229cf388b3a76516e3d"
   }
  }
 },
 "nbformat": 4,
 "nbformat_minor": 2
}
